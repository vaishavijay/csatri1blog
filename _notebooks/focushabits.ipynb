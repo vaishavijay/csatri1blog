{
 "cells": [
  {
   "cell_type": "markdown",
   "metadata": {},
   "source": [
    "# Focus and Habits \n",
    "> Personal Blog"
   ]
  },
  {
   "cell_type": "markdown",
   "metadata": {},
   "source": [
    "### [Psychology and the Good Life (Laurie Santos)](https://www.youtube.com/watch?v=ZizdB0TgAVM)\n",
    "Notes & Vocab: \n",
    "- Life circumstances!\n",
    "    - Reality check: They don’t matter as much as we may think \n",
    "    - Small world! think how small our problems are relative to the rest\n",
    "- Its near impossible to take control of life \n",
    "    - There are so many circumstances that are out of our control!\n",
    "- To begin enterprise, we must first recognize this and the current way of thinking doesn’t work\n",
    "- Make time for socialization!!\n",
    "- Practice gratitude and be helpful!\n",
    "- Practice healthy habits \n",
    "    - Taking care of the mind, body, and soul\n",
    "- Practice being in the present moment!\n",
    "- Wealthy in terms of time: don’t waste time!\n"
   ]
  },
  {
   "cell_type": "markdown",
   "metadata": {},
   "source": [
    "### Things To Be Grateful For:\n",
    "- Family and Friends / Healthy Relationships with others\n",
    "- Safe Home, Food, Water, etc.\n",
    "- Passion for music and the opportunities I have been given to excel in it (music program, classes, singing classes, volunteer events, etc)\n",
    "- Great school with good opportunities for higher education and resources\n",
    "- Having the drive and motivation to pursue onto greater things in the future and become successful\n",
    "- Driven curiosity for whats about to come in the near future"
   ]
  },
  {
   "cell_type": "code",
   "execution_count": null,
   "metadata": {
    "vscode": {
     "languageId": "html"
    }
   },
   "outputs": [],
   "source": [
    "<script src=\"https://utteranc.es/client.js\"\n",
    "        repo=\"vaishavijay/csatri1blog\"\n",
    "        issue-term=\"pathname\"\n",
    "        theme=\"dark-blue\"\n",
    "        crossorigin=\"anonymous\"\n",
    "        async>\n",
    "</script>"
   ]
  }
 ],
 "metadata": {
  "kernelspec": {
   "display_name": "Python 3.10.4 64-bit",
   "language": "python",
   "name": "python3"
  },
  "language_info": {
   "name": "python",
   "version": "3.10.4"
  },
  "orig_nbformat": 4,
  "vscode": {
   "interpreter": {
    "hash": "aee8b7b246df8f9039afb4144a1f6fd8d2ca17a180786b69acc140d282b71a49"
   }
  }
 },
 "nbformat": 4,
 "nbformat_minor": 2
}
