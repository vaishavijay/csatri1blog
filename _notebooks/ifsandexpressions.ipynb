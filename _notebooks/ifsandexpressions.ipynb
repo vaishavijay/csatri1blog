{
 "cells": [
  {
   "cell_type": "markdown",
   "metadata": {},
   "source": [
    "# Boolean Expressions and If Statements\n",
    "> Class Notes\n",
    "\n",
    "- toc: true \n",
    "- badges: true\n",
    "- comments: true\n",
    "- categories: [week3]\n",
    "- image: images/chart-preview.png"
   ]
  },
  {
   "cell_type": "markdown",
   "metadata": {},
   "source": [
    "#### Boolean expression: true/false\n",
    "\n",
    "#### If: “if condition is met, execute the following”\n",
    "\n",
    "#### If-else: “if condition is met, execute the following; if not met, execute the following”\n",
    "\n",
    "#### If-elseif-else: “if one of these conditions are met, execute the following”"
   ]
  },
  {
   "cell_type": "code",
   "execution_count": null,
   "metadata": {},
   "outputs": [],
   "source": [
    "# example of if\n",
    "\n",
    "if (x < \"10\") {\n",
    "  print \"Hi!\";\n",
    "} else {\n",
    "  print \"Bye!\";\n",
    "}"
   ]
  },
  {
   "cell_type": "code",
   "execution_count": null,
   "metadata": {},
   "outputs": [],
   "source": [
    "# example of if-else\n",
    "\n",
    "if (x < \"10\") {\n",
    "  print \"Hi!\";\n",
    "} else {\n",
    "  print \"Bye!\";\n",
    "}"
   ]
  },
  {
   "cell_type": "code",
   "execution_count": null,
   "metadata": {},
   "outputs": [],
   "source": [
    "# example of if-elseif-else\n",
    "\n",
    "if (x < \"10\") {\n",
    "  print \"Hi!\";\n",
    "} elseif (x < \"20\") {\n",
    "  print \"Hello!\";\n",
    "} else {\n",
    "  print \"Bye!\";\n",
    "}"
   ]
  },
  {
   "cell_type": "markdown",
   "metadata": {},
   "source": [
    "### De Morgan's Law\n",
    "\n",
    "PvQ can only fail to be true if P and Q are both false\n",
    "both must be true in order for the concept to be fullfilled\n",
    "\n",
    "ex: “I don’t like chocolate **or** vanilla” vs “I do not like chocolate and I do not like vanilla” (same thing!)\n",
    "\n",
    "credit: https://www.whitman.edu/mathematics/higher_math_online/section01.03.html"
   ]
  },
  {
   "cell_type": "code",
   "execution_count": null,
   "metadata": {},
   "outputs": [],
   "source": [
    "public class Test1\n",
    "{\n",
    "   public static void main(String[] args)\n",
    "   {\n",
    "     int x = 2;\n",
    "     int y = 3;\n",
    "     System.out.println(!(x < 3 && y > 2));\n",
    "   }\n",
    "}\n",
    "# https://runestone.academy/ns/books/published/apcsareview/Conditionals/cDeMorgans.html"
   ]
  }
 ],
 "metadata": {
  "kernelspec": {
   "display_name": "Python 3.10.4 64-bit",
   "language": "python",
   "name": "python3"
  },
  "language_info": {
   "name": "python",
   "version": "3.10.4"
  },
  "orig_nbformat": 4,
  "vscode": {
   "interpreter": {
    "hash": "aee8b7b246df8f9039afb4144a1f6fd8d2ca17a180786b69acc140d282b71a49"
   }
  }
 },
 "nbformat": 4,
 "nbformat_minor": 2
}
