{
 "cells": [
  {
   "cell_type": "markdown",
   "metadata": {},
   "source": [
    "# Primitive Notes\n",
    "> Key Learnings from Code.org"
   ]
  },
  {
   "cell_type": "markdown",
   "metadata": {},
   "source": [
    "### Data Types\n",
    "\n",
    "Main Data Types:\n",
    "\n",
    "- Java: Primitive Types (Java loves to sort everything into classes)\n",
    " - strings: non-primitive data type class in Java\n",
    "\n",
    "![](my_icons/data_types.png)\n",
    "\n"
   ]
  },
  {
   "cell_type": "markdown",
   "metadata": {},
   "source": [
    "Input Primitive Data: input supplied by the user\n",
    "- Scanner: Java Utility Class for Console Input\n",
    "\n",
    "Output Primitive Data: outputting results of program from data inputted"
   ]
  },
  {
   "cell_type": "markdown",
   "metadata": {},
   "source": [
    "### Grade Calculator\n",
    "\n",
    "- uses Primitive Type Double & introduces wrapper class Double (one of the most common Data Structures in Java – ArrayList!)"
   ]
  },
  {
   "cell_type": "code",
   "execution_count": null,
   "metadata": {},
   "outputs": [],
   "source": []
  }
 ],
 "metadata": {
  "kernelspec": {
   "display_name": "JavaScript (Node.js)",
   "language": "javascript",
   "name": "javascript"
  },
  "language_info": {
   "name": "javascript",
   "version": "3.10.4"
  },
  "orig_nbformat": 4,
  "vscode": {
   "interpreter": {
    "hash": "aee8b7b246df8f9039afb4144a1f6fd8d2ca17a180786b69acc140d282b71a49"
   }
  }
 },
 "nbformat": 4,
 "nbformat_minor": 2
}
