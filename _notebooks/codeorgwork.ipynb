{
 "cells": [
  {
   "cell_type": "markdown",
   "metadata": {},
   "source": [
    "# Code.org\n",
    "> Screenshots and Key Learnings"
   ]
  },
  {
   "cell_type": "markdown",
   "metadata": {},
   "source": [
    "| Unit   | Topic |   What I learned |\n",
    "| ------ | ----------- | -------|\n",
    "| 1      | Welcome to CSA | No levels  |\n",
    "| 2      | Java Lab |Introduced to Java Lab environment, identified correct Java syntax, explored how Painter performs task with instructions|\n",
    "| 3      | The Neighborhood |Instigating a Painter Object, creating Painter objects with keywords|\n",
    "| 4      | Navigating and Painting |Learning syntax for calling methods in Java (using parenthesis and semicolon (;), if method has parameters in declaration, they are within the parenthesis, etc.)|\n",
    "| 5      | One-Way Selection Statements |Using conditional (if) statements in program, using Painter class’s methods to tell wither the Painter is on paint, moving, using if statement to make decision per calls, etc.|\n",
    "| 6      | PainterPlus |Painter class has several methods fro navigating but also has limitations. types of classes, inheritance, PainterPlus intro|\n",
    "| 7      | Writing Methods |Using void method (nothing returned from main method), accessibility of new behaviors between superclasses/subclasses.|\n",
    "| 8      | Code Reviews |Importance of commenting and programing structure increases readability for others to check, code reviews|\n",
    "| 9      | Loops |While loops with methods to return info while implementing new methods in the PainterPlus class, selection statements and iteration to implement algorithms.|\n",
    "| 10     | Two-Way Selection Statements |If statements based on if condition is true, Boolean expressions used to determine two-way selection statements, NOT (!) logical operator used to check state of object and instructions based on result, etc.|\n",
    "| 11     | Debugging Strategies |Printing information to the console / Debugging, identifies logic errors in program.|\n",
    "| 12     | Decomposition and Design |Using Decomposition and design methods to deconstruct problems (navigating crooked pathway and painting)|\n",
    "| 13     | PatternPainter |New subclass PatternPainter with new behaviors, using decomposition again to develop algorithms (still need to work on…)|\n",
    "| 14     | BackgroundPainter |New subclass BackgroundPainter with new behaviors, using decomposition again to develop algorithms (still need to work on…)|\n",
    "| 15     | Open Source Code |Which of the software engineering characteristics do you most identify with? Why do you connect most with those characteristics? I identify most with being a good team player and creativity. I have generally always been a pretty creative person similar to music and art, and I consider myself a good team player as I am reliable and when I know what I am doing, I can get the job done.|\n"
   ]
  },
  {
   "cell_type": "markdown",
   "metadata": {},
   "source": [
    "![](my_icons/codeorg1.png)\n",
    "![](my_icons/codeorg2.png)\n",
    "![](my_icons/codeorg3.png)\n",
    "![](my_icons/codeorg4.png)\n",
    "![](my_icons/codeorg5.png)"
   ]
  }
 ],
 "metadata": {
  "kernelspec": {
   "display_name": "Python 3.10.4 64-bit",
   "language": "python",
   "name": "python3"
  },
  "language_info": {
   "name": "python",
   "version": "3.10.4"
  },
  "orig_nbformat": 4,
  "vscode": {
   "interpreter": {
    "hash": "aee8b7b246df8f9039afb4144a1f6fd8d2ca17a180786b69acc140d282b71a49"
   }
  }
 },
 "nbformat": 4,
 "nbformat_minor": 2
}
