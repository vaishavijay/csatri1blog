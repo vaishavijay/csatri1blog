{
 "cells": [
  {
   "cell_type": "markdown",
   "metadata": {},
   "source": [
    "# Code.org\n",
    "> Screenshots and Key Learnings"
   ]
  },
  {
   "cell_type": "markdown",
   "metadata": {},
   "source": [
    "| Unit   | Topic |   What I learned |\n",
    "| ------ | ----------- | -------|\n",
    "| 1      | Welcome to CSA | No levels  |\n",
    "| 2      | Java Lab |Introduced to Java Lab environment, identified correct Java syntax, explored how Painter performs task with instructions|\n",
    "| 3      | The Neighborhood |Instigating a Painter Object, creating Painter objects with keywords|\n",
    "| 4      | Navigating and Painting |Learning syntax for calling methods in Java (using parenthesis and semicolon (;), if method has parameters in declaration, they are within the parenthesis, etc.)|\n",
    "| 5      | One-Way Selection Statements |Using conditional (if) statements in program, using Painter class’s methods to tell wither the Painter is on paint, moving, using if statement to make decision per calls, etc.|\n",
    "| 6      | PainterPlus | f |\n",
    "| 7      | Writing Methods |f|\n",
    "| 8      | Code Reviews | f |\n",
    "| 9      | Loops | f |\n",
    "| 10     | Two-Way Selection Statements |  f |\n",
    "| 11     | Debugging Strategies |   f       |\n",
    "| 12     | Decomposition and Design |    f      |\n",
    "| 13     | PatternPainter |     f     |\n",
    "| 14     | BackgroundPainter |      f    |\n",
    "| 15     | Open Source Code |       f   |\n"
   ]
  }
 ],
 "metadata": {
  "kernelspec": {
   "display_name": "Python 3.10.4 64-bit",
   "language": "python",
   "name": "python3"
  },
  "language_info": {
   "name": "python",
   "version": "3.10.4"
  },
  "orig_nbformat": 4,
  "vscode": {
   "interpreter": {
    "hash": "aee8b7b246df8f9039afb4144a1f6fd8d2ca17a180786b69acc140d282b71a49"
   }
  }
 },
 "nbformat": 4,
 "nbformat_minor": 2
}
