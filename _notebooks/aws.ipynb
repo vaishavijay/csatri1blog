{
 "cells": [
  {
   "cell_type": "markdown",
   "metadata": {},
   "source": [
    "# AWS \n",
    "> Deployment and Progress\n",
    "\n",
    "- toc: true \n",
    "- badges: true\n",
    "- comments: true\n",
    "- categories: [week3]\n",
    "- image: images/chart-preview.png"
   ]
  },
  {
   "cell_type": "markdown",
   "metadata": {},
   "source": [
    "AWS Virtual Computer: (https://us-west-1.console.aws.amazon.com/ec2-instance-connect/ssh?region=us-west-1&connType=standard&instanceId=i-0c6ccf0f609ac113b&osUser=ubuntu&sshPort=22#/)[https://us-west-1.console.aws.amazon.com/ec2-instance-connect/ssh?region=us-west-1&connType=standard&instanceId=i-0c6ccf0f609ac113b&osUser=ubuntu&sshPort=22#/]\n",
    "\n",
    "### Runtime: \n",
    "![](my_icons/aws1.png)"
   ]
  }
 ],
 "metadata": {
  "kernelspec": {
   "display_name": "Python 3.10.4 64-bit",
   "language": "python",
   "name": "python3"
  },
  "language_info": {
   "name": "python",
   "version": "3.10.4"
  },
  "orig_nbformat": 4,
  "vscode": {
   "interpreter": {
    "hash": "aee8b7b246df8f9039afb4144a1f6fd8d2ca17a180786b69acc140d282b71a49"
   }
  }
 },
 "nbformat": 4,
 "nbformat_minor": 2
}
